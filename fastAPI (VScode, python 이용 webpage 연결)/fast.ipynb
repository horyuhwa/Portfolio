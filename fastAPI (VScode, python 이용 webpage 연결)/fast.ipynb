{
 "cells": [
  {
   "attachments": {},
   "cell_type": "markdown",
   "metadata": {},
   "source": [
    "# 큰제목\n",
    "* 목록\n",
    "* 목록1\n",
    "## 중제목\n",
    "1. 목록\n",
    "2. 목록2\n",
    "### 작은제목\n",
    "* 목록\n",
    "    * 들여쓰기\n",
    "* 목록\n",
    "    * 들여쓰기    "
   ]
  },
  {
   "cell_type": "code",
   "execution_count": 1,
   "metadata": {},
   "outputs": [
    {
     "ename": "ModuleNotFoundError",
     "evalue": "No module named 'fastapi'",
     "output_type": "error",
     "traceback": [
      "\u001b[1;31m---------------------------------------------------------------------------\u001b[0m",
      "\u001b[1;31mModuleNotFoundError\u001b[0m                       Traceback (most recent call last)",
      "Cell \u001b[1;32mIn[1], line 1\u001b[0m\n\u001b[1;32m----> 1\u001b[0m \u001b[39mfrom\u001b[39;00m \u001b[39mfastapi\u001b[39;00m \u001b[39mimport\u001b[39;00m fastAPI\n\u001b[0;32m      3\u001b[0m app \u001b[39m=\u001b[39m FastAPI()\n\u001b[0;32m      5\u001b[0m \u001b[39m@app\u001b[39m\u001b[39m.\u001b[39mget(\u001b[39m\"\u001b[39m\u001b[39m/\u001b[39m\u001b[39m\"\u001b[39m)\n\u001b[0;32m      6\u001b[0m \u001b[39mdef\u001b[39;00m \u001b[39mread_root\u001b[39m():\n",
      "\u001b[1;31mModuleNotFoundError\u001b[0m: No module named 'fastapi'"
     ]
    }
   ],
   "source": [
    "from fastapi import fastAPI\n",
    "\n",
    "app = FastAPI()\n",
    "\n",
    "@app.get(\"/\")\n",
    "def read_root():\n",
    "    return {\"Hello\" : \"FastAPI\"}\n",
    "\n",
    "if __name__ == \"__main__\":\n",
    "    import uvicorn\n",
    "    uvicorn.run(app, host = \"0,0,0,0\", port = 8000)"
   ]
  }
 ],
 "metadata": {
  "kernelspec": {
   "display_name": "fastapi_ex",
   "language": "python",
   "name": "python3"
  },
  "language_info": {
   "codemirror_mode": {
    "name": "ipython",
    "version": 3
   },
   "file_extension": ".py",
   "mimetype": "text/x-python",
   "name": "python",
   "nbconvert_exporter": "python",
   "pygments_lexer": "ipython3",
   "version": "3.9.16"
  },
  "orig_nbformat": 4,
  "vscode": {
   "interpreter": {
    "hash": "d331d15e575be08586238c9a52218e4b2e1cff49a2194027c7cd757ee906e7f3"
   }
  }
 },
 "nbformat": 4,
 "nbformat_minor": 2
}
